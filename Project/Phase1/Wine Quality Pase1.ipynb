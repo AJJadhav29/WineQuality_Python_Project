{
 "cells": [
  {
   "cell_type": "markdown",
   "id": "27935518",
   "metadata": {
    "id": "27935518"
   },
   "source": [
    "# Wine Quality Project"
   ]
  },
  {
   "cell_type": "markdown",
   "id": "7ed25957",
   "metadata": {
    "id": "f4cc3d75"
   },
   "source": [
    "Project IS 669 Big Data and Information Systems\n",
    "#Group Members :\n",
    "1. Ajay Eslavath\n",
    "2. **PRANAY KUMAR REDDY GANGIREDDY**.\n",
    "3. Prashanth Narayana Gondlyala Sathya\n",
    "4. Aakash Janardhan Jadhav\n",
    "5. Sasi Kumar Kandibilla Bhaskar\n",
    "\n"
   ]
  },
  {
   "cell_type": "code",
   "execution_count": 1,
   "id": "5b66d2d8",
   "metadata": {
    "colab": {
     "base_uri": "https://localhost:8080/"
    },
    "executionInfo": {
     "elapsed": 12240,
     "status": "ok",
     "timestamp": 1699931480155,
     "user": {
      "displayName": "Prashanth Narayana",
      "userId": "05199510352999136821"
     },
     "user_tz": 300
    },
    "id": "5b66d2d8",
    "outputId": "eacf538a-17dd-4638-8633-29d5f85c37cb"
   },
   "outputs": [
    {
     "name": "stdout",
     "output_type": "stream",
     "text": [
      "Requirement already satisfied: ucimlrepo in c:\\users\\aakash jadhav\\anaconda3\\lib\\site-packages (0.0.3)\n",
      "Note: you may need to restart the kernel to use updated packages.\n"
     ]
    }
   ],
   "source": [
    "pip install ucimlrepo\n"
   ]
  },
  {
   "cell_type": "code",
   "execution_count": 2,
   "id": "61d3af1e",
   "metadata": {
    "colab": {
     "base_uri": "https://localhost:8080/",
     "height": 519
    },
    "executionInfo": {
     "elapsed": 2083,
     "status": "ok",
     "timestamp": 1699931573890,
     "user": {
      "displayName": "Prashanth Narayana",
      "userId": "05199510352999136821"
     },
     "user_tz": 300
    },
    "id": "61d3af1e",
    "outputId": "21ed25a3-bbd5-4270-a6ad-fb103103e14c"
   },
   "outputs": [
    {
     "data": {
      "text/html": [
       "<div>\n",
       "<style scoped>\n",
       "    .dataframe tbody tr th:only-of-type {\n",
       "        vertical-align: middle;\n",
       "    }\n",
       "\n",
       "    .dataframe tbody tr th {\n",
       "        vertical-align: top;\n",
       "    }\n",
       "\n",
       "    .dataframe thead th {\n",
       "        text-align: right;\n",
       "    }\n",
       "</style>\n",
       "<table border=\"1\" class=\"dataframe\">\n",
       "  <thead>\n",
       "    <tr style=\"text-align: right;\">\n",
       "      <th></th>\n",
       "      <th>fixed_acidity</th>\n",
       "      <th>volatile_acidity</th>\n",
       "      <th>citric_acid</th>\n",
       "      <th>residual_sugar</th>\n",
       "      <th>chlorides</th>\n",
       "      <th>free_sulfur_dioxide</th>\n",
       "      <th>total_sulfur_dioxide</th>\n",
       "      <th>density</th>\n",
       "      <th>pH</th>\n",
       "      <th>sulphates</th>\n",
       "      <th>alcohol</th>\n",
       "      <th>quality</th>\n",
       "      <th>color</th>\n",
       "    </tr>\n",
       "  </thead>\n",
       "  <tbody>\n",
       "    <tr>\n",
       "      <th>0</th>\n",
       "      <td>7.4</td>\n",
       "      <td>0.700</td>\n",
       "      <td>0.00</td>\n",
       "      <td>1.9</td>\n",
       "      <td>0.076</td>\n",
       "      <td>11.0</td>\n",
       "      <td>34.0</td>\n",
       "      <td>0.9978</td>\n",
       "      <td>3.51</td>\n",
       "      <td>0.56</td>\n",
       "      <td>9.4</td>\n",
       "      <td>5</td>\n",
       "      <td>red</td>\n",
       "    </tr>\n",
       "    <tr>\n",
       "      <th>1</th>\n",
       "      <td>7.8</td>\n",
       "      <td>0.880</td>\n",
       "      <td>0.00</td>\n",
       "      <td>2.6</td>\n",
       "      <td>0.098</td>\n",
       "      <td>25.0</td>\n",
       "      <td>67.0</td>\n",
       "      <td>0.9968</td>\n",
       "      <td>3.20</td>\n",
       "      <td>0.68</td>\n",
       "      <td>9.8</td>\n",
       "      <td>5</td>\n",
       "      <td>red</td>\n",
       "    </tr>\n",
       "    <tr>\n",
       "      <th>2</th>\n",
       "      <td>7.8</td>\n",
       "      <td>0.760</td>\n",
       "      <td>0.04</td>\n",
       "      <td>2.3</td>\n",
       "      <td>0.092</td>\n",
       "      <td>15.0</td>\n",
       "      <td>54.0</td>\n",
       "      <td>0.9970</td>\n",
       "      <td>3.26</td>\n",
       "      <td>0.65</td>\n",
       "      <td>9.8</td>\n",
       "      <td>5</td>\n",
       "      <td>red</td>\n",
       "    </tr>\n",
       "    <tr>\n",
       "      <th>3</th>\n",
       "      <td>11.2</td>\n",
       "      <td>0.280</td>\n",
       "      <td>0.56</td>\n",
       "      <td>1.9</td>\n",
       "      <td>0.075</td>\n",
       "      <td>17.0</td>\n",
       "      <td>60.0</td>\n",
       "      <td>0.9980</td>\n",
       "      <td>3.16</td>\n",
       "      <td>0.58</td>\n",
       "      <td>9.8</td>\n",
       "      <td>6</td>\n",
       "      <td>red</td>\n",
       "    </tr>\n",
       "    <tr>\n",
       "      <th>4</th>\n",
       "      <td>7.4</td>\n",
       "      <td>0.700</td>\n",
       "      <td>0.00</td>\n",
       "      <td>1.9</td>\n",
       "      <td>0.076</td>\n",
       "      <td>11.0</td>\n",
       "      <td>34.0</td>\n",
       "      <td>0.9978</td>\n",
       "      <td>3.51</td>\n",
       "      <td>0.56</td>\n",
       "      <td>9.4</td>\n",
       "      <td>5</td>\n",
       "      <td>red</td>\n",
       "    </tr>\n",
       "    <tr>\n",
       "      <th>5</th>\n",
       "      <td>7.4</td>\n",
       "      <td>0.660</td>\n",
       "      <td>0.00</td>\n",
       "      <td>1.8</td>\n",
       "      <td>0.075</td>\n",
       "      <td>13.0</td>\n",
       "      <td>40.0</td>\n",
       "      <td>0.9978</td>\n",
       "      <td>3.51</td>\n",
       "      <td>0.56</td>\n",
       "      <td>9.4</td>\n",
       "      <td>5</td>\n",
       "      <td>red</td>\n",
       "    </tr>\n",
       "    <tr>\n",
       "      <th>6</th>\n",
       "      <td>7.9</td>\n",
       "      <td>0.600</td>\n",
       "      <td>0.06</td>\n",
       "      <td>1.6</td>\n",
       "      <td>0.069</td>\n",
       "      <td>15.0</td>\n",
       "      <td>59.0</td>\n",
       "      <td>0.9964</td>\n",
       "      <td>3.30</td>\n",
       "      <td>0.46</td>\n",
       "      <td>9.4</td>\n",
       "      <td>5</td>\n",
       "      <td>red</td>\n",
       "    </tr>\n",
       "    <tr>\n",
       "      <th>7</th>\n",
       "      <td>7.3</td>\n",
       "      <td>0.650</td>\n",
       "      <td>0.00</td>\n",
       "      <td>1.2</td>\n",
       "      <td>0.065</td>\n",
       "      <td>15.0</td>\n",
       "      <td>21.0</td>\n",
       "      <td>0.9946</td>\n",
       "      <td>3.39</td>\n",
       "      <td>0.47</td>\n",
       "      <td>10.0</td>\n",
       "      <td>7</td>\n",
       "      <td>red</td>\n",
       "    </tr>\n",
       "    <tr>\n",
       "      <th>8</th>\n",
       "      <td>7.8</td>\n",
       "      <td>0.580</td>\n",
       "      <td>0.02</td>\n",
       "      <td>2.0</td>\n",
       "      <td>0.073</td>\n",
       "      <td>9.0</td>\n",
       "      <td>18.0</td>\n",
       "      <td>0.9968</td>\n",
       "      <td>3.36</td>\n",
       "      <td>0.57</td>\n",
       "      <td>9.5</td>\n",
       "      <td>7</td>\n",
       "      <td>red</td>\n",
       "    </tr>\n",
       "    <tr>\n",
       "      <th>9</th>\n",
       "      <td>7.5</td>\n",
       "      <td>0.500</td>\n",
       "      <td>0.36</td>\n",
       "      <td>6.1</td>\n",
       "      <td>0.071</td>\n",
       "      <td>17.0</td>\n",
       "      <td>102.0</td>\n",
       "      <td>0.9978</td>\n",
       "      <td>3.35</td>\n",
       "      <td>0.80</td>\n",
       "      <td>10.5</td>\n",
       "      <td>5</td>\n",
       "      <td>red</td>\n",
       "    </tr>\n",
       "    <tr>\n",
       "      <th>10</th>\n",
       "      <td>6.7</td>\n",
       "      <td>0.580</td>\n",
       "      <td>0.08</td>\n",
       "      <td>1.8</td>\n",
       "      <td>0.097</td>\n",
       "      <td>15.0</td>\n",
       "      <td>65.0</td>\n",
       "      <td>0.9959</td>\n",
       "      <td>3.28</td>\n",
       "      <td>0.54</td>\n",
       "      <td>9.2</td>\n",
       "      <td>5</td>\n",
       "      <td>red</td>\n",
       "    </tr>\n",
       "    <tr>\n",
       "      <th>11</th>\n",
       "      <td>7.5</td>\n",
       "      <td>0.500</td>\n",
       "      <td>0.36</td>\n",
       "      <td>6.1</td>\n",
       "      <td>0.071</td>\n",
       "      <td>17.0</td>\n",
       "      <td>102.0</td>\n",
       "      <td>0.9978</td>\n",
       "      <td>3.35</td>\n",
       "      <td>0.80</td>\n",
       "      <td>10.5</td>\n",
       "      <td>5</td>\n",
       "      <td>red</td>\n",
       "    </tr>\n",
       "    <tr>\n",
       "      <th>12</th>\n",
       "      <td>5.6</td>\n",
       "      <td>0.615</td>\n",
       "      <td>0.00</td>\n",
       "      <td>1.6</td>\n",
       "      <td>0.089</td>\n",
       "      <td>16.0</td>\n",
       "      <td>59.0</td>\n",
       "      <td>0.9943</td>\n",
       "      <td>3.58</td>\n",
       "      <td>0.52</td>\n",
       "      <td>9.9</td>\n",
       "      <td>5</td>\n",
       "      <td>red</td>\n",
       "    </tr>\n",
       "    <tr>\n",
       "      <th>13</th>\n",
       "      <td>7.8</td>\n",
       "      <td>0.610</td>\n",
       "      <td>0.29</td>\n",
       "      <td>1.6</td>\n",
       "      <td>0.114</td>\n",
       "      <td>9.0</td>\n",
       "      <td>29.0</td>\n",
       "      <td>0.9974</td>\n",
       "      <td>3.26</td>\n",
       "      <td>1.56</td>\n",
       "      <td>9.1</td>\n",
       "      <td>5</td>\n",
       "      <td>red</td>\n",
       "    </tr>\n",
       "    <tr>\n",
       "      <th>14</th>\n",
       "      <td>8.9</td>\n",
       "      <td>0.620</td>\n",
       "      <td>0.18</td>\n",
       "      <td>3.8</td>\n",
       "      <td>0.176</td>\n",
       "      <td>52.0</td>\n",
       "      <td>145.0</td>\n",
       "      <td>0.9986</td>\n",
       "      <td>3.16</td>\n",
       "      <td>0.88</td>\n",
       "      <td>9.2</td>\n",
       "      <td>5</td>\n",
       "      <td>red</td>\n",
       "    </tr>\n",
       "  </tbody>\n",
       "</table>\n",
       "</div>"
      ],
      "text/plain": [
       "    fixed_acidity  volatile_acidity  citric_acid  residual_sugar  chlorides  \\\n",
       "0             7.4             0.700         0.00             1.9      0.076   \n",
       "1             7.8             0.880         0.00             2.6      0.098   \n",
       "2             7.8             0.760         0.04             2.3      0.092   \n",
       "3            11.2             0.280         0.56             1.9      0.075   \n",
       "4             7.4             0.700         0.00             1.9      0.076   \n",
       "5             7.4             0.660         0.00             1.8      0.075   \n",
       "6             7.9             0.600         0.06             1.6      0.069   \n",
       "7             7.3             0.650         0.00             1.2      0.065   \n",
       "8             7.8             0.580         0.02             2.0      0.073   \n",
       "9             7.5             0.500         0.36             6.1      0.071   \n",
       "10            6.7             0.580         0.08             1.8      0.097   \n",
       "11            7.5             0.500         0.36             6.1      0.071   \n",
       "12            5.6             0.615         0.00             1.6      0.089   \n",
       "13            7.8             0.610         0.29             1.6      0.114   \n",
       "14            8.9             0.620         0.18             3.8      0.176   \n",
       "\n",
       "    free_sulfur_dioxide  total_sulfur_dioxide  density    pH  sulphates  \\\n",
       "0                  11.0                  34.0   0.9978  3.51       0.56   \n",
       "1                  25.0                  67.0   0.9968  3.20       0.68   \n",
       "2                  15.0                  54.0   0.9970  3.26       0.65   \n",
       "3                  17.0                  60.0   0.9980  3.16       0.58   \n",
       "4                  11.0                  34.0   0.9978  3.51       0.56   \n",
       "5                  13.0                  40.0   0.9978  3.51       0.56   \n",
       "6                  15.0                  59.0   0.9964  3.30       0.46   \n",
       "7                  15.0                  21.0   0.9946  3.39       0.47   \n",
       "8                   9.0                  18.0   0.9968  3.36       0.57   \n",
       "9                  17.0                 102.0   0.9978  3.35       0.80   \n",
       "10                 15.0                  65.0   0.9959  3.28       0.54   \n",
       "11                 17.0                 102.0   0.9978  3.35       0.80   \n",
       "12                 16.0                  59.0   0.9943  3.58       0.52   \n",
       "13                  9.0                  29.0   0.9974  3.26       1.56   \n",
       "14                 52.0                 145.0   0.9986  3.16       0.88   \n",
       "\n",
       "    alcohol  quality color  \n",
       "0       9.4        5   red  \n",
       "1       9.8        5   red  \n",
       "2       9.8        5   red  \n",
       "3       9.8        6   red  \n",
       "4       9.4        5   red  \n",
       "5       9.4        5   red  \n",
       "6       9.4        5   red  \n",
       "7      10.0        7   red  \n",
       "8       9.5        7   red  \n",
       "9      10.5        5   red  \n",
       "10      9.2        5   red  \n",
       "11     10.5        5   red  \n",
       "12      9.9        5   red  \n",
       "13      9.1        5   red  \n",
       "14      9.2        5   red  "
      ]
     },
     "execution_count": 2,
     "metadata": {},
     "output_type": "execute_result"
    }
   ],
   "source": [
    "import pandas as pd\n",
    "import numpy as np\n",
    "from ucimlrepo import fetch_ucirepo\n",
    "\n",
    "# fetch dataset\n",
    "wine_quality = fetch_ucirepo(id=186)\n",
    "\n",
    "# data (as pandas dataframes)\n",
    "X = wine_quality. data.features\n",
    "y = wine_quality.data.targets\n",
    "\n",
    "# variable information\n",
    "url = 'https://archive.ics.uci.edu/static/public/186/data.csv'\n",
    "\n",
    "# Reading the CSV file into a DataFrame\n",
    "df = pd. read_csv(url)\n",
    "df.head(15)"
   ]
  },
  {
   "cell_type": "markdown",
   "id": "871354c8",
   "metadata": {
    "id": "871354c8"
   },
   "source": [
    "# Data Exploratory Analysis ."
   ]
  },
  {
   "cell_type": "markdown",
   "id": "8b5be600",
   "metadata": {},
   "source": [
    "# Data Exploration Task -1 \n",
    "Features of the dataset:\n",
    "* 1.Fixed Acidity: Numerical and continuous, representing the fixed acidity level of the wine.\n",
    "* 2.Volatile Acidity: Numerical and continuous, indicating the volatile acidity level of the wine.\n",
    "* 3.Citric Acid: Numerical and continuous, representing the citric acid content in the wine.\n",
    "* 4.Residual Sugar: Numerical and continuous, indicating the residual sugar content in the wine.\n",
    "* 5.Chlorides: Numerical and continuous, representing the chloride content in the wine.\n",
    "* 6.Free Sulfur Dioxide: Numerical and continuous, indicating the level of free sulfur dioxide in the wine.\n",
    "* 7.Total Sulfur Dioxide: Numerical and continuous, representing the total sulfur dioxide level in the wine.\n",
    "* 8.Density: Numerical and continuous, indicating the density of the wine.\n",
    "* 9.pH: Numerical and continuous, representing the pH level of the wine.\n",
    "* 10.Sulphates: Numerical and continuous, indicating the sulphates content in the wine.\n",
    "* 11.Alcohol: Numerical and continuous, representing the alcohol content in the wine.\n",
    "* 12.Quality: Categorical, indicating the quality rating of the wine (target variable)."
   ]
  },
  {
   "cell_type": "markdown",
   "id": "b9ecd73c",
   "metadata": {},
   "source": [
    "\n",
    "# Overview of Dataset\n",
    "\n",
    "The dataset is to be about wine quality, and the goal variable is 'quality.' Each row most likely represents a different instance of wine, and the features provide information about the wine's numerous attributes. Depending on how 'quality' is regarded, the problem type is most likely a regression or classification challenge.\n",
    "\n",
    "1. Explanation of Features:\n",
    "    \n",
    "    a. Quality(Target Variable): This most likely represents the product's overall quality. It is the variable that we wish to better forecast or comprehend.\n",
    "    \n",
    "    b. Alcohol(Relevant Feature): This is the most important aspect; it indicates the product's alcohol concentration. This trait was chosen for a more in-depth examination, presumably due to its perceived importance in judging quality.\n",
    "\n",
    "\n",
    "2. Handling Missing Values:\n",
    "    For missing values in dataset we used 'df.isnull().sum()'. Unfortunately, the code does not address the issue of missing   values. Imputation methods such as filling missing values with the mean, median, or using more sophisticated methods might be necessary depending on the extent of missing data."
   ]
  },
  {
   "cell_type": "markdown",
   "id": "629b2f45",
   "metadata": {},
   "source": [
    "# Data Exploration Task 2"
   ]
  },
  {
   "cell_type": "code",
   "execution_count": 3,
   "id": "b71fb40b",
   "metadata": {
    "colab": {
     "base_uri": "https://localhost:8080/"
    },
    "executionInfo": {
     "elapsed": 1789,
     "status": "ok",
     "timestamp": 1699931586839,
     "user": {
      "displayName": "Prashanth Narayana",
      "userId": "05199510352999136821"
     },
     "user_tz": 300
    },
    "id": "b71fb40b",
    "outputId": "f0a50fa0-5dc3-4d22-c9a2-af6290b40493"
   },
   "outputs": [
    {
     "name": "stdout",
     "output_type": "stream",
     "text": [
      "The number of missing values in the dataset are\n",
      "fixed_acidity           0\n",
      "volatile_acidity        0\n",
      "citric_acid             0\n",
      "residual_sugar          0\n",
      "chlorides               0\n",
      "free_sulfur_dioxide     0\n",
      "total_sulfur_dioxide    0\n",
      "density                 0\n",
      "pH                      0\n",
      "sulphates               0\n",
      "alcohol                 0\n",
      "quality                 0\n",
      "color                   0\n",
      "dtype: int64\n"
     ]
    }
   ],
   "source": [
    "# Checking for missing values\n",
    "missing_values = df.isnull().sum()\n",
    "print(f\"The number of missing values in the dataset are\\n{missing_values}\")"
   ]
  },
  {
   "cell_type": "code",
   "execution_count": 4,
   "id": "e92a360f",
   "metadata": {},
   "outputs": [
    {
     "data": {
      "text/plain": [
       "6    2836\n",
       "5    2138\n",
       "7    1079\n",
       "4     216\n",
       "8     193\n",
       "3      30\n",
       "9       5\n",
       "Name: quality, dtype: int64"
      ]
     },
     "execution_count": 4,
     "metadata": {},
     "output_type": "execute_result"
    }
   ],
   "source": [
    "# Exploring the distribution of the target variable\n",
    "df['quality'].value_counts()\n"
   ]
  },
  {
   "cell_type": "markdown",
   "id": "e3438945",
   "metadata": {},
   "source": [
    "# Data Exploration Task-3 \n",
    "\n",
    "3. Descriptive Statistics for 'Alcohol': \n",
    "    \n",
    "    a. Minimum and Maximum: The dataset's alcohol content range.\n",
    "    \n",
    "    b. Mean, Median and Mode: Measures of central tendency that provide information about the normal alcohol concentration.\n",
    "    \n",
    "    c. Range: The difference between Maximum and Minimum Values.\n",
    "    \n",
    "    d. Variable and Standard Deviation: Indicators of the degree of alcohol content dispersion.\n",
    "    \n",
    "    e. 1st, 2nd and 3rd Quartiles: Values that divide the data into four equal halves, indicating the form of the distribution."
   ]
  },
  {
   "cell_type": "code",
   "execution_count": 5,
   "id": "61f7fa8f",
   "metadata": {
    "colab": {
     "base_uri": "https://localhost:8080/"
    },
    "executionInfo": {
     "elapsed": 220,
     "status": "ok",
     "timestamp": 1699931594824,
     "user": {
      "displayName": "Prashanth Narayana",
      "userId": "05199510352999136821"
     },
     "user_tz": 300
    },
    "id": "61f7fa8f",
    "outputId": "85b69b88-da75-4c63-a457-eb5d78a1069f"
   },
   "outputs": [
    {
     "name": "stdout",
     "output_type": "stream",
     "text": [
      "Descriptive Statistics for alcohol:\n",
      "\n",
      "count    6497.000000\n",
      "mean       10.491801\n",
      "std         1.192712\n",
      "min         8.000000\n",
      "25%         9.500000\n",
      "50%        10.300000\n",
      "75%        11.300000\n",
      "max        14.900000\n",
      "Name: alcohol, dtype: float64\n",
      "\n",
      "Median: 10.3\n",
      "Mode: 9.5\n",
      "Range: 6.9\n",
      "Variance: 1.4225613158901156\n",
      "Standard Deviation: 1.1927117488689862\n",
      "1st Quartile: 9.5\n",
      "2nd Quartile (Median): 10.3\n",
      "3rd Quartile: 11.3\n"
     ]
    }
   ],
   "source": [
    "\n",
    "# Assuming 'alcohol' is the most relevant feature\n",
    "relevant_feature = 'alcohol'\n",
    "\n",
    "# Descriptive statistics for the relevant feature\n",
    "stats_relevant_feature = df[relevant_feature].describe()\n",
    "\n",
    "# Median (50th percentile) - Same as df[relevant_feature].median()\n",
    "median = df[relevant_feature].median()\n",
    "\n",
    "# Mode - Note: Mode can be a Series if there are multiple modes\n",
    "mode = df[relevant_feature].mode().iloc[0]  # Taking the first mode if multiple modes\n",
    "\n",
    "# Range\n",
    "range_val = df[relevant_feature].max() - df[relevant_feature].min()\n",
    "\n",
    "# Variance\n",
    "variance = df[relevant_feature].var()\n",
    "\n",
    "# Standard Deviation\n",
    "std_dev = df[relevant_feature].std()\n",
    "\n",
    "# Quartiles\n",
    "first_quartile = df[relevant_feature].quantile(0.25)\n",
    "second_quartile = df[relevant_feature].quantile(0.50)  # Same as median\n",
    "third_quartile = df[relevant_feature].quantile(0.75)\n",
    "\n",
    "# Displaying  the results\n",
    "print(f\"Descriptive Statistics for {relevant_feature}:\\n\")\n",
    "print(stats_relevant_feature)\n",
    "print(f\"\\nMedian: {median}\")\n",
    "print(f\"Mode: {mode}\")\n",
    "print(f\"Range: {range_val}\")\n",
    "print(f\"Variance: {variance}\")\n",
    "print(f\"Standard Deviation: {std_dev}\")\n",
    "print(f\"1st Quartile: {first_quartile}\")\n",
    "print(f\"2nd Quartile (Median): {second_quartile}\")\n",
    "print(f\"3rd Quartile: {third_quartile}\")\n"
   ]
  },
  {
   "cell_type": "markdown",
   "id": "df833077",
   "metadata": {},
   "source": [
    "# Data Exploration Task-4 \n",
    "\n",
    "4. Frequency Distribution of 'Alcohol': \n",
    "    \n",
    "    a. Binning: The code generates bins to categorize the alcohol content into ranges.\n",
    "    \n",
    "    b. Frequency Distribution: Displays the number of data points that fall into each bucket."
   ]
  },
  {
   "cell_type": "code",
   "execution_count": 6,
   "id": "60afd689",
   "metadata": {
    "colab": {
     "base_uri": "https://localhost:8080/"
    },
    "executionInfo": {
     "elapsed": 153,
     "status": "ok",
     "timestamp": 1699931599935,
     "user": {
      "displayName": "Prashanth Narayana",
      "userId": "05199510352999136821"
     },
     "user_tz": 300
    },
    "id": "60afd689",
    "outputId": "0b5ffaef-a61b-47c4-b96f-0b28f278322f"
   },
   "outputs": [
    {
     "name": "stdout",
     "output_type": "stream",
     "text": [
      "Frequency Distribution for alcohol:\n",
      "\n",
      "(0, 9]       539\n",
      "(9, 10]     2293\n",
      "(10, 11]    1696\n",
      "(11, 12]    1117\n",
      "(12, 13]     727\n",
      "(13, 14]     122\n",
      "Name: alcohol, dtype: int64\n"
     ]
    }
   ],
   "source": [
    "\n",
    "# Creating the bins for grouping\n",
    "bins = [0, 9, 10, 11, 12, 13, 14]\n",
    "\n",
    "# Use pd.cut to group values into bins\n",
    "grouped_alcohol = pd.cut(df[relevant_feature], bins=bins)\n",
    "\n",
    "# Calculating the frequency distribution using value_counts\n",
    "frequency_distribution = grouped_alcohol.value_counts().sort_index()\n",
    "\n",
    "# Displaying the frequency distribution\n",
    "print(f\"Frequency Distribution for {relevant_feature}:\\n\")\n",
    "print(frequency_distribution)\n"
   ]
  },
  {
   "cell_type": "markdown",
   "id": "acabae8e",
   "metadata": {},
   "source": [
    "# Data Explortion Task -5\n",
    "5. Mean of Frequency Distribution: \n",
    "    \n",
    "    a. Midpoint: The code calculate midpoints od each interval.\n",
    "    \n",
    "    b. Weighted Mean: Calculated as the sum of (midpoint * frequency) divided by the total frequency. Given the dispersion of the data, this yields a more nuanced average."
   ]
  },
  {
   "cell_type": "code",
   "execution_count": 7,
   "id": "36729140",
   "metadata": {
    "colab": {
     "base_uri": "https://localhost:8080/"
    },
    "executionInfo": {
     "elapsed": 160,
     "status": "ok",
     "timestamp": 1699931604077,
     "user": {
      "displayName": "Prashanth Narayana",
      "userId": "05199510352999136821"
     },
     "user_tz": 300
    },
    "id": "36729140",
    "outputId": "e4d104ba-d41c-40d7-c59a-212391c25503"
   },
   "outputs": [
    {
     "name": "stdout",
     "output_type": "stream",
     "text": [
      "\n",
      "Weighted Mean: 10.101170311056359\n"
     ]
    }
   ],
   "source": [
    "# Calculating the midpoints of each interval\n",
    "midpoints = [(start + end) / 2 for start, end in zip(bins[:-1], bins[1:])]\n",
    "\n",
    "# Calculating the weighted mean\n",
    "weighted_mean = sum(midpoint * frequency for midpoint, frequency in zip(midpoints, frequency_distribution)) / sum(frequency_distribution)\n",
    "\n",
    "print(f\"\\nWeighted Mean: {weighted_mean}\")"
   ]
  },
  {
   "cell_type": "markdown",
   "id": "9f645647",
   "metadata": {
    "id": "9f645647"
   },
   "source": [
    "# Data Shaping"
   ]
  },
  {
   "cell_type": "markdown",
   "id": "3cab5ccb",
   "metadata": {},
   "source": [
    "# Generating Additional Instances:\n",
    "\n",
    "For each numeric column in the original dataset, the given code generates an additional 2000 instances of synthetic data. Here's how the methodology works:\n",
    "1. Original Data Range: The code computes the range of each numeric column in the original dataset.\n",
    "2. Synthetic Data Generation: It generates random values within the range of the original data for each numeric column using a uniform distribution.\n",
    "3. DataFrame Creation: A new DataFrame is established, synthetic_data, to house the synthetic values for each feature.\n",
    "4. Display: The synthetic data is displayed for preliminary examination.\n"
   ]
  },
  {
   "cell_type": "code",
   "execution_count": 8,
   "id": "6a0d5109",
   "metadata": {
    "colab": {
     "base_uri": "https://localhost:8080/"
    },
    "executionInfo": {
     "elapsed": 143,
     "status": "ok",
     "timestamp": 1699931607462,
     "user": {
      "displayName": "Prashanth Narayana",
      "userId": "05199510352999136821"
     },
     "user_tz": 300
    },
    "id": "3148ac32",
    "outputId": "4a88e341-cbe1-4716-92a0-6a4b9609970e"
   },
   "outputs": [
    {
     "name": "stdout",
     "output_type": "stream",
     "text": [
      "   fixed_acidity  volatile_acidity  citric_acid  residual_sugar  chlorides  \\\n",
      "0       6.619138          1.200116     1.183323       62.902454   0.199240   \n",
      "1       8.847376          1.035419     0.612601       16.489809   0.247069   \n",
      "2      10.090991          0.667648     1.553775       14.460493   0.386635   \n",
      "3       7.952360          0.245358     1.644783       21.409475   0.442299   \n",
      "4       4.606846          1.133516     1.577084        7.006128   0.548179   \n",
      "\n",
      "   free_sulfur_dioxide  total_sulfur_dioxide   density        pH  sulphates  \\\n",
      "0           184.814847             62.423456  0.990526  3.677391   1.865510   \n",
      "1           198.765373            246.642478  1.022350  2.727921   1.666372   \n",
      "2            48.210546            261.696909  1.035220  3.507745   1.357713   \n",
      "3           111.404606            403.805809  1.022320  4.003381   1.047349   \n",
      "4           274.981113            332.012973  0.989386  2.818547   1.533830   \n",
      "\n",
      "     alcohol   quality  \n",
      "0  13.341884  4.223657  \n",
      "1  14.197634  5.668961  \n",
      "2   9.846264  8.083244  \n",
      "3  11.220790  7.793442  \n",
      "4   9.359097  3.662959  \n"
     ]
    }
   ],
   "source": [
    "# Data Shaping Task - 1\n",
    "# Methodology Narrative and code .\n",
    "\n",
    "import pandas as pd\n",
    "import numpy as np\n",
    "\n",
    "# Assuming 'df' is your original DataFrame\n",
    "original_data = df.copy()\n",
    "\n",
    "# Number of additional instances to generate\n",
    "num_additional_instances = 2000\n",
    "\n",
    "# Generate synthetic data within the range of each feature\n",
    "synthetic_data = pd.DataFrame()\n",
    "\n",
    "for column in original_data.columns:\n",
    "    # If the column has numeric values\n",
    "    if pd.api.types.is_numeric_dtype(original_data[column]):\n",
    "        # Calculating the range of the original data in the column\n",
    "        data_range = original_data[column].max() - original_data[column].min()\n",
    "\n",
    "        # Generate random values within the range of the original data\n",
    "        synthetic_values = np.random.uniform(\n",
    "            low=original_data[column].min(),\n",
    "            high=original_data[column].max(),\n",
    "            size=num_additional_instances\n",
    "        )\n",
    "\n",
    "        # Add the synthetic values to the new DataFrame\n",
    "        synthetic_data[column] = synthetic_values\n",
    "\n",
    "# Displaying the synthetic data\n",
    "print(synthetic_data.head())\n"
   ]
  },
  {
   "cell_type": "code",
   "execution_count": null,
   "id": "b76d5031",
   "metadata": {},
   "outputs": [],
   "source": []
  },
  {
   "attachments": {
    "big_data.jpg": {
     "image/jpeg": "[encoded data removed]"
    }
   },
   "cell_type": "markdown",
   "id": "d9b08a56",
   "metadata": {},
   "source": [
    "# Data Shaping Task -2 \n",
    "# Diagram and Narrative \n",
    "![big_data.jpg](attachment:big_data.jpg)"
   ]
  },
  {
   "cell_type": "markdown",
   "id": "9fd936f5",
   "metadata": {},
   "source": [
    "Wines Table:\n",
    "Usage:\n",
    "The Wines table is where we save detailed information on various wines. Each row represents a distinct wine, as indicated by its wine_id as PK. Alcohol, acidity, Residual_sugar, pH, and quality provide detailed information on each wine's characteristics and perceived quality.\n",
    "\n",
    "Chemical Properties Table:\n",
    "Usage:\n",
    "The Wines table is supplemented by the Chemical Properties table, which contains unique chemical features associated with each wine.Property_ID as PK each row contains a collection of chemical readings for a specific wine, which is identifiable by the wine_id as FK. Attributes such as volatile_acidity, citric_acid, chlorides, and sulfur_dioxide provide information on each wine's chemical composition.\n",
    "\n",
    "Quality Assessment Table:\n",
    "Usage:\n",
    "The Quality Assessment table collects subjective ratings and assessments for each wine, giving another layer of scrutiny. Each row represents an evaluation of a specific wine, as identified by the wine_id as Fk and Assessment_ID and PK. Volatile_Acidity, Citric_Acid, Chloride and Sulfur_Dioxide are attributes that provide qualitative insights into the perceived quality and sensory aspects of each wine.\n",
    "\n",
    "Constraints and Relationships:\n",
    "1. The connection between the Wines and Chemical Properties tables is through the wine_id foreign key in the Chemical Properties table. This relationship allows for a one-to-many association, meaning a single wine in the Wines table can have multiple related records in the Chemical Properties table.\n",
    "\n",
    "2. The connection between the Wines and Quality Assessment tables is through the wine_id foreign key in the Quality Assessment table. Similar to the Chemical Properties relationship, this connection allows for a one-to-many association.\n",
    "\n",
    "Overall System Interaction: \n",
    "In the Wines table, users can enter and save detailed information about specific wines. They can also record each wine's chemical attributes in the Chemical Properties table and subjective quality judgments in the Quality Assessment table. All relevant data (chemical attributes and quality assessments) are linked to the specific wine in the Wines table thanks to the structured linkages.\n",
    "\n",
    "Purpose: The goal of this database structure is to make it easier to analyze wines by combining quantitative chemical data, subjective ratings, and inherent qualities. The structured relationships provide a comprehensive perspective of each wine, allowing for inquiries and analyses that include both objective and subjective factors. The tables are essentially intended to gather and arrange various information about wines, providing a complete insight of their chemical makeup and perceived quality.\n"
   ]
  },
  {
   "cell_type": "markdown",
   "id": "a4c6d09b",
   "metadata": {
    "id": "a4c6d09b"
   },
   "source": [
    "# Data Sampling Tasks ."
   ]
  },
  {
   "cell_type": "markdown",
   "id": "b2825013",
   "metadata": {},
   "source": [
    "# Multi-Purpose Sampling Function: \n",
    "The provided code implements a sample_data function that may be used for a variety of applications, allowing the user to select the amount of records and sampling criteria."
   ]
  },
  {
   "cell_type": "code",
   "execution_count": 9,
   "id": "e048ff34",
   "metadata": {
    "colab": {
     "base_uri": "https://localhost:8080/"
    },
    "executionInfo": {
     "elapsed": 177,
     "status": "ok",
     "timestamp": 1699931613678,
     "user": {
      "displayName": "Prashanth Narayana",
      "userId": "05199510352999136821"
     },
     "user_tz": 300
    },
    "id": "e048ff34",
    "outputId": "b9481fe5-61ca-4095-e2cb-f7d0c8c0eb79",
    "scrolled": true
   },
   "outputs": [
    {
     "name": "stdout",
     "output_type": "stream",
     "text": [
      "      fixed_acidity  volatile_acidity  citric_acid  residual_sugar  chlorides  \\\n",
      "2645            6.5              0.19         0.10             1.3      0.046   \n",
      "5659            6.4              0.41         0.01             6.1      0.048   \n",
      "782             9.0              0.82         0.05             2.4      0.081   \n",
      "3781            6.6              0.32         0.27            10.9      0.041   \n",
      "3235            7.8              0.49         0.49             7.0      0.043   \n",
      "\n",
      "      free_sulfur_dioxide  total_sulfur_dioxide  density    pH  sulphates  \\\n",
      "2645                 23.0                 107.0  0.99370  3.29       0.45   \n",
      "5659                 20.0                  70.0  0.99362  3.19       0.42   \n",
      "782                  26.0                  96.0  0.99814  3.36       0.53   \n",
      "3781                 37.0                 146.0  0.99630  3.24       0.47   \n",
      "3235                 29.0                 149.0  0.99520  3.21       0.33   \n",
      "\n",
      "      alcohol  quality  color  \n",
      "2645     10.0        5  white  \n",
      "5659     10.0        5  white  \n",
      "782      10.0        5    red  \n",
      "3781     10.0        5  white  \n",
      "3235     10.0        5  white  \n"
     ]
    }
   ],
   "source": [
    "# Data Sampling Task -1 \n",
    "\n",
    "def sample_data(data, num_records, criteria=None, random_seed=None):\n",
    "    \n",
    "    # Set random seed for reproducibility\n",
    "    np.random.seed(random_seed)\n",
    "\n",
    "    # If criteria are specified, filter the dataset\n",
    "    if criteria:\n",
    "        for column, value in criteria.items():\n",
    "            data = data[data[column] == value]\n",
    "\n",
    "    # Sample the data with replace=True to avoid the error\n",
    "    sampled_data = data.sample(n=num_records, replace=True)\n",
    "\n",
    "    return sampled_data\n",
    "\n",
    "# Example usage:\n",
    "# Specify the criteria you want to use for sampling\n",
    "sampling_criteria = {'quality': 5, 'alcohol': 10}\n",
    "\n",
    "# Call the function to sample 100 records based on the specified criteria\n",
    "sampled_data = sample_data(df, num_records=100, criteria=sampling_criteria, random_seed=42)\n",
    "\n",
    "# Displaying  the sampled data\n",
    "print(sampled_data.head())\n"
   ]
  },
  {
   "cell_type": "markdown",
   "id": "ee524800",
   "metadata": {},
   "source": [
    "# Creating 4 Separate Samples:"
   ]
  },
  {
   "cell_type": "raw",
   "id": "1192c2ee",
   "metadata": {
    "id": "1192c2ee"
   },
   "source": [
    "## Data Sampling Task 2/3 (Sample-1)"
   ]
  },
  {
   "cell_type": "code",
   "execution_count": 10,
   "id": "9d345727",
   "metadata": {
    "colab": {
     "base_uri": "https://localhost:8080/"
    },
    "executionInfo": {
     "elapsed": 191,
     "status": "ok",
     "timestamp": 1699931619348,
     "user": {
      "displayName": "Prashanth Narayana",
      "userId": "05199510352999136821"
     },
     "user_tz": 300
    },
    "id": "9d345727",
    "outputId": "0d3cb46e-dcb6-44a0-e9c8-c5aa7fe73545"
   },
   "outputs": [
    {
     "name": "stdout",
     "output_type": "stream",
     "text": [
      "Sample 1:\n",
      "     fixed_acidity  volatile_acidity  citric_acid  residual_sugar  chlorides  \\\n",
      "459           11.6             0.580         0.66            2.20      0.074   \n",
      "517           10.4             0.610         0.49            2.10      0.200   \n",
      "690            7.4             1.185         0.00            4.25      0.097   \n",
      "832           10.4             0.440         0.42            1.50      0.145   \n",
      "899            8.3             1.020         0.02            3.40      0.084   \n",
      "\n",
      "     free_sulfur_dioxide  total_sulfur_dioxide  density    pH  sulphates  \\\n",
      "459                 10.0                  47.0  1.00080  3.25       0.57   \n",
      "517                  5.0                  16.0  0.99940  3.16       0.63   \n",
      "690                  5.0                  14.0  0.99660  3.63       0.54   \n",
      "832                 34.0                  48.0  0.99832  3.38       0.86   \n",
      "899                  6.0                  11.0  0.99892  3.48       0.49   \n",
      "\n",
      "     alcohol  quality color  \n",
      "459      9.0        3   red  \n",
      "517      8.4        3   red  \n",
      "690     10.7        3   red  \n",
      "832      9.9        3   red  \n",
      "899     11.0        3   red  \n"
     ]
    }
   ],
   "source": [
    "# Sample 1: Quality level 3\n",
    "sample_1 = df[df['quality'] == 3]\n",
    "print(\"Sample 1:\")\n",
    "print(sample_1.head())\n",
    "\n"
   ]
  },
  {
   "cell_type": "raw",
   "id": "1ff3366a",
   "metadata": {
    "id": "1ff3366a"
   },
   "source": [
    " ## Data Sampling Task 2/3 (Sample - 2)"
   ]
  },
  {
   "cell_type": "code",
   "execution_count": 11,
   "id": "b5c6bdb7",
   "metadata": {
    "colab": {
     "base_uri": "https://localhost:8080/"
    },
    "executionInfo": {
     "elapsed": 136,
     "status": "ok",
     "timestamp": 1699931622894,
     "user": {
      "displayName": "Prashanth Narayana",
      "userId": "05199510352999136821"
     },
     "user_tz": 300
    },
    "id": "b5c6bdb7",
    "outputId": "c3487049-b2ba-4b36-9db7-13a1b978cbef"
   },
   "outputs": [
    {
     "name": "stdout",
     "output_type": "stream",
     "text": [
      "\n",
      "Sample 2:\n",
      "   fixed_acidity  volatile_acidity  citric_acid  residual_sugar  chlorides  \\\n",
      "0            7.4              0.70         0.00             1.9      0.076   \n",
      "1            7.8              0.88         0.00             2.6      0.098   \n",
      "2            7.8              0.76         0.04             2.3      0.092   \n",
      "4            7.4              0.70         0.00             1.9      0.076   \n",
      "5            7.4              0.66         0.00             1.8      0.075   \n",
      "\n",
      "   free_sulfur_dioxide  total_sulfur_dioxide  density    pH  sulphates  \\\n",
      "0                 11.0                  34.0   0.9978  3.51       0.56   \n",
      "1                 25.0                  67.0   0.9968  3.20       0.68   \n",
      "2                 15.0                  54.0   0.9970  3.26       0.65   \n",
      "4                 11.0                  34.0   0.9978  3.51       0.56   \n",
      "5                 13.0                  40.0   0.9978  3.51       0.56   \n",
      "\n",
      "   alcohol  quality color  \n",
      "0      9.4        5   red  \n",
      "1      9.8        5   red  \n",
      "2      9.8        5   red  \n",
      "4      9.4        5   red  \n",
      "5      9.4        5   red  \n"
     ]
    }
   ],
   "source": [
    "# Sample 2: Quality level 5\n",
    "sample_2 = df[df['quality'] == 5]\n",
    "print(\"\\nSample 2:\")\n",
    "print(sample_2.head())\n"
   ]
  },
  {
   "cell_type": "raw",
   "id": "edcf2316",
   "metadata": {
    "id": "edcf2316"
   },
   "source": [
    "## Data Sampling Task 2/3 (Sample - 3)"
   ]
  },
  {
   "cell_type": "code",
   "execution_count": 12,
   "id": "be7deea5",
   "metadata": {
    "colab": {
     "base_uri": "https://localhost:8080/"
    },
    "executionInfo": {
     "elapsed": 123,
     "status": "ok",
     "timestamp": 1699931626047,
     "user": {
      "displayName": "Prashanth Narayana",
      "userId": "05199510352999136821"
     },
     "user_tz": 300
    },
    "id": "be7deea5",
    "outputId": "1c0e1080-9440-4062-e07b-05532338b521"
   },
   "outputs": [
    {
     "name": "stdout",
     "output_type": "stream",
     "text": [
      "Sample 3:\n",
      "    fixed_acidity  volatile_acidity  citric_acid  residual_sugar  chlorides  \\\n",
      "7             7.3              0.65         0.00             1.2      0.065   \n",
      "8             7.8              0.58         0.02             2.0      0.073   \n",
      "16            8.5              0.28         0.56             1.8      0.092   \n",
      "37            8.1              0.38         0.28             2.1      0.066   \n",
      "62            7.5              0.52         0.16             1.9      0.085   \n",
      "\n",
      "    free_sulfur_dioxide  total_sulfur_dioxide  density    pH  sulphates  \\\n",
      "7                  15.0                  21.0   0.9946  3.39       0.47   \n",
      "8                   9.0                  18.0   0.9968  3.36       0.57   \n",
      "16                 35.0                 103.0   0.9969  3.30       0.75   \n",
      "37                 13.0                  30.0   0.9968  3.23       0.73   \n",
      "62                 12.0                  35.0   0.9968  3.38       0.62   \n",
      "\n",
      "    alcohol  quality color  \n",
      "7      10.0        7   red  \n",
      "8       9.5        7   red  \n",
      "16     10.5        7   red  \n",
      "37      9.7        7   red  \n",
      "62      9.5        7   red  \n"
     ]
    }
   ],
   "source": [
    "# Sample 3: Quality level 7\n",
    "sample_3 = df[df['quality'] == 7]\n",
    "print(\"Sample 3:\")\n",
    "print(sample_3.head())\n",
    "\n"
   ]
  },
  {
   "cell_type": "raw",
   "id": "0127554b",
   "metadata": {
    "id": "27fb0a6b"
   },
   "source": [
    "## Data Sampling Task 2/3 (Sample-4)."
   ]
  },
  {
   "cell_type": "code",
   "execution_count": 13,
   "id": "761a64da",
   "metadata": {
    "colab": {
     "base_uri": "https://localhost:8080/"
    },
    "executionInfo": {
     "elapsed": 145,
     "status": "ok",
     "timestamp": 1699931630650,
     "user": {
      "displayName": "Prashanth Narayana",
      "userId": "05199510352999136821"
     },
     "user_tz": 300
    },
    "id": "761a64da",
    "outputId": "85172c4d-54f8-4fe6-9813-e13a05dd87ba"
   },
   "outputs": [
    {
     "name": "stdout",
     "output_type": "stream",
     "text": [
      "\n",
      "Sample 4:\n",
      "      fixed_acidity  volatile_acidity  citric_acid  residual_sugar  chlorides  \\\n",
      "2373            9.1              0.27         0.45            10.6      0.035   \n",
      "2419            6.6              0.36         0.29             1.6      0.021   \n",
      "2426            7.4              0.24         0.36             2.0      0.031   \n",
      "2475            6.9              0.36         0.34             4.2      0.018   \n",
      "3204            7.1              0.26         0.49             2.2      0.032   \n",
      "\n",
      "      free_sulfur_dioxide  total_sulfur_dioxide  density    pH  sulphates  \\\n",
      "2373                 28.0                 124.0  0.99700  3.20       0.46   \n",
      "2419                 24.0                  85.0  0.98965  3.41       0.61   \n",
      "2426                 27.0                 139.0  0.99055  3.28       0.48   \n",
      "2475                 57.0                 119.0  0.98980  3.28       0.36   \n",
      "3204                 31.0                 113.0  0.99030  3.37       0.42   \n",
      "\n",
      "      alcohol  quality  color  \n",
      "2373     10.4        9  white  \n",
      "2419     12.4        9  white  \n",
      "2426     12.5        9  white  \n",
      "2475     12.7        9  white  \n",
      "3204     12.9        9  white  \n"
     ]
    }
   ],
   "source": [
    "# Sample 4: Quality level 9\n",
    "sample_4 = df[df['quality'] == 9]\n",
    "print(\"\\nSample 4:\")\n",
    "print(sample_4.head())\n"
   ]
  },
  {
   "cell_type": "code",
   "execution_count": 14,
   "id": "988d2edb",
   "metadata": {
    "id": "988d2edb",
    "outputId": "e4484289-e24c-479c-be76-c2a9d39b51fd"
   },
   "outputs": [
    {
     "data": {
      "text/plain": [
       "\"\\n## if we need the csv files for each sample we can use the below code .\\n# Save samples to CSV files\\nsample_1.to_csv('sample_1.csv', index=False)\\nsample_2.to_csv('sample_2.csv', index=False)\\nsample_3.to_csv('sample_3.csv', index=False)\\nsample_4.to_csv('sample_4.csv', index=False)\\n\\n\""
      ]
     },
     "execution_count": 14,
     "metadata": {},
     "output_type": "execute_result"
    }
   ],
   "source": [
    "\"\"\"\n",
    "## if we need the csv files for each sample we can use the below code .\n",
    "# Save samples to CSV files\n",
    "sample_1.to_csv('sample_1.csv', index=False)\n",
    "sample_2.to_csv('sample_2.csv', index=False)\n",
    "sample_3.to_csv('sample_3.csv', index=False)\n",
    "sample_4.to_csv('sample_4.csv', index=False)\n",
    "\n",
    "\"\"\"\n"
   ]
  },
  {
   "cell_type": "markdown",
   "id": "ffcb1d89",
   "metadata": {},
   "source": [
    "# Descriptive Statistics for Each Sample: \n",
    "Descriptive statistics for each sample are presented in the corresponding cells when each sample is created. Statistics such as mean, standard deviation, minimum, maximum, and quartiles are included, providing a full summary of the characteristics of each sample.\n"
   ]
  },
  {
   "cell_type": "code",
   "execution_count": 15,
   "id": "784f7eb3",
   "metadata": {
    "id": "784f7eb3",
    "outputId": "1ce68fac-e92a-4054-9581-41b4c7aa8981"
   },
   "outputs": [
    {
     "name": "stdout",
     "output_type": "stream",
     "text": [
      "Descriptive Statistics for Sample 1 (Quality level 3):\n",
      "       fixed_acidity  volatile_acidity  citric_acid  residual_sugar  \\\n",
      "count      30.000000         30.000000     30.00000       30.000000   \n",
      "mean        7.853333          0.517000      0.28100        5.140000   \n",
      "std         1.747853          0.341913      0.17351        4.730721   \n",
      "min         4.200000          0.170000      0.00000        0.700000   \n",
      "25%         6.800000          0.252500      0.21250        1.650000   \n",
      "50%         7.450000          0.415000      0.33000        3.150000   \n",
      "75%         8.575000          0.632500      0.39500        7.800000   \n",
      "max        11.800000          1.580000      0.66000       16.200000   \n",
      "\n",
      "       chlorides  free_sulfur_dioxide  total_sulfur_dioxide    density  \\\n",
      "count  30.000000            30.000000             30.000000  30.000000   \n",
      "mean    0.077033            39.216667            122.033333   0.995744   \n",
      "std     0.062014            59.990327            112.141762   0.002833   \n",
      "min     0.022000             3.000000              9.000000   0.991100   \n",
      "25%     0.038750             5.250000             30.000000   0.993750   \n",
      "50%     0.055000            17.000000            102.500000   0.995900   \n",
      "75%     0.081000            37.375000            193.250000   0.998060   \n",
      "max     0.267000           289.000000            440.000000   1.000800   \n",
      "\n",
      "              pH  sulphates    alcohol  quality  \n",
      "count  30.000000  30.000000  30.000000     30.0  \n",
      "mean    3.257667   0.506333  10.215000      3.0  \n",
      "std     0.213246   0.126994   1.106497      0.0  \n",
      "min     2.870000   0.280000   8.000000      3.0  \n",
      "25%     3.140000   0.407500   9.625000      3.0  \n",
      "50%     3.245000   0.505000  10.150000      3.0  \n",
      "75%     3.415000   0.565000  11.000000      3.0  \n",
      "max     3.630000   0.860000  12.600000      3.0  \n"
     ]
    }
   ],
   "source": [
    "# Descriptive statistics for Sample 1 (Quality level 3)\n",
    "print(\"Descriptive Statistics for Sample 1 (Quality level 3):\")\n",
    "print(sample_1.describe())\n"
   ]
  },
  {
   "cell_type": "code",
   "execution_count": 16,
   "id": "d50e4e93",
   "metadata": {
    "id": "d50e4e93",
    "outputId": "9ed849ea-caef-45f9-c640-92abdc9b0e4b"
   },
   "outputs": [
    {
     "name": "stdout",
     "output_type": "stream",
     "text": [
      "Descriptive Statistics for Sample 2 (Quality level 5):\n",
      "       fixed_acidity  volatile_acidity  citric_acid  residual_sugar  \\\n",
      "count    2138.000000       2138.000000  2138.000000     2138.000000   \n",
      "mean        7.326801          0.389614     0.307722        5.804116   \n",
      "std         1.260002          0.178582     0.160429        4.994311   \n",
      "min         4.500000          0.100000     0.000000        0.600000   \n",
      "25%         6.500000          0.260000     0.210000        1.800000   \n",
      "50%         7.100000          0.330000     0.300000        3.000000   \n",
      "75%         7.800000          0.490000     0.400000        8.750000   \n",
      "max        15.900000          1.330000     1.000000       23.500000   \n",
      "\n",
      "         chlorides  free_sulfur_dioxide  total_sulfur_dioxide      density  \\\n",
      "count  2138.000000          2138.000000           2138.000000  2138.000000   \n",
      "mean      0.064666            30.237371            120.839102     0.995849   \n",
      "std       0.042007            18.565479             60.782859     0.002439   \n",
      "min       0.009000             2.000000              6.000000     0.987220   \n",
      "25%       0.044000            15.000000             72.000000     0.994100   \n",
      "50%       0.053000            27.000000            127.000000     0.996100   \n",
      "75%       0.077000            44.000000            168.000000     0.997600   \n",
      "max       0.611000           131.000000            344.000000     1.003150   \n",
      "\n",
      "                pH    sulphates      alcohol  quality  \n",
      "count  2138.000000  2138.000000  2138.000000   2138.0  \n",
      "mean      3.212189     0.526403     9.837783      5.0  \n",
      "std       0.157378     0.141648     0.814416      0.0  \n",
      "min       2.790000     0.270000     8.000000      5.0  \n",
      "25%       3.110000     0.440000     9.300000      5.0  \n",
      "50%       3.190000     0.500000     9.600000      5.0  \n",
      "75%       3.300000     0.580000    10.300000      5.0  \n",
      "max       3.790000     1.980000    14.900000      5.0  \n"
     ]
    }
   ],
   "source": [
    "# Descriptive statistics for Sample 2 (Quality level 5)\n",
    "print(\"Descriptive Statistics for Sample 2 (Quality level 5):\")\n",
    "print(sample_2.describe())\n"
   ]
  },
  {
   "cell_type": "code",
   "execution_count": 17,
   "id": "5bac26b0",
   "metadata": {
    "id": "5bac26b0",
    "outputId": "dc19dfa5-a5d3-4989-ea58-fbd5191e1a01"
   },
   "outputs": [
    {
     "name": "stdout",
     "output_type": "stream",
     "text": [
      "Descriptive Statistics for Sample 3 (Quality level 7):\n",
      "       fixed_acidity  volatile_acidity  citric_acid  residual_sugar  \\\n",
      "count    1079.000000       1079.000000  1079.000000     1079.000000   \n",
      "mean        7.128962          0.288800     0.334764        4.731696   \n",
      "std         1.372141          0.116797     0.111471        4.040245   \n",
      "min         4.200000          0.080000     0.000000        0.900000   \n",
      "25%         6.300000          0.200000     0.280000        1.800000   \n",
      "50%         6.900000          0.270000     0.320000        2.800000   \n",
      "75%         7.400000          0.340000     0.390000        6.300000   \n",
      "max        15.600000          0.915000     0.760000       19.250000   \n",
      "\n",
      "         chlorides  free_sulfur_dioxide  total_sulfur_dioxide      density  \\\n",
      "count  1079.000000          1079.000000           1079.000000  1079.000000   \n",
      "mean      0.045272            30.422150            108.498610     0.993126   \n",
      "std       0.021786            14.925261             47.943716     0.003020   \n",
      "min       0.012000             3.000000              7.000000     0.987110   \n",
      "25%       0.033000            20.000000             86.000000     0.990795   \n",
      "50%       0.039000            30.000000            114.000000     0.992400   \n",
      "75%       0.051000            40.000000            138.000000     0.995195   \n",
      "max       0.358000           108.000000            289.000000     1.003200   \n",
      "\n",
      "                pH    sulphates      alcohol  quality  \n",
      "count  1079.000000  1079.000000  1079.000000   1079.0  \n",
      "mean      3.228072     0.547025    11.386006      7.0  \n",
      "std       0.159646     0.160436     1.199337      0.0  \n",
      "min       2.840000     0.220000     8.600000      7.0  \n",
      "25%       3.120000     0.430000    10.625000      7.0  \n",
      "50%       3.220000     0.520000    11.400000      7.0  \n",
      "75%       3.340000     0.640000    12.300000      7.0  \n",
      "max       3.820000     1.360000    14.200000      7.0  \n"
     ]
    }
   ],
   "source": [
    "# Descriptive statistics for Sample 3 (Quality level 7)\n",
    "print(\"Descriptive Statistics for Sample 3 (Quality level 7):\")\n",
    "print(sample_3.describe())\n"
   ]
  },
  {
   "cell_type": "code",
   "execution_count": 18,
   "id": "0c8f5358",
   "metadata": {
    "colab": {
     "base_uri": "https://localhost:8080/"
    },
    "executionInfo": {
     "elapsed": 161,
     "status": "ok",
     "timestamp": 1699931652056,
     "user": {
      "displayName": "Prashanth Narayana",
      "userId": "05199510352999136821"
     },
     "user_tz": 300
    },
    "id": "0c8f5358",
    "outputId": "7ee97e2e-6927-4735-fc96-fb07b58af87e"
   },
   "outputs": [
    {
     "name": "stdout",
     "output_type": "stream",
     "text": [
      "Descriptive Statistics for Sample 4 (Quality level 9):\n",
      "       fixed_acidity  volatile_acidity  citric_acid  residual_sugar  \\\n",
      "count       5.000000          5.000000     5.000000        5.000000   \n",
      "mean        7.420000          0.298000     0.386000        4.120000   \n",
      "std         0.983362          0.057619     0.082037        3.759255   \n",
      "min         6.600000          0.240000     0.290000        1.600000   \n",
      "25%         6.900000          0.260000     0.340000        2.000000   \n",
      "50%         7.100000          0.270000     0.360000        2.200000   \n",
      "75%         7.400000          0.360000     0.450000        4.200000   \n",
      "max         9.100000          0.360000     0.490000       10.600000   \n",
      "\n",
      "       chlorides  free_sulfur_dioxide  total_sulfur_dioxide   density  \\\n",
      "count   5.000000             5.000000              5.000000  5.000000   \n",
      "mean    0.027400            33.400000            116.000000  0.991460   \n",
      "std     0.007436            13.427584             19.824228  0.003118   \n",
      "min     0.018000            24.000000             85.000000  0.989650   \n",
      "25%     0.021000            27.000000            113.000000  0.989800   \n",
      "50%     0.031000            28.000000            119.000000  0.990300   \n",
      "75%     0.032000            31.000000            124.000000  0.990550   \n",
      "max     0.035000            57.000000            139.000000  0.997000   \n",
      "\n",
      "             pH  sulphates   alcohol  quality  \n",
      "count  5.000000   5.000000   5.00000      5.0  \n",
      "mean   3.308000   0.466000  12.18000      9.0  \n",
      "std    0.082885   0.092628   1.01341      0.0  \n",
      "min    3.200000   0.360000  10.40000      9.0  \n",
      "25%    3.280000   0.420000  12.40000      9.0  \n",
      "50%    3.280000   0.460000  12.50000      9.0  \n",
      "75%    3.370000   0.480000  12.70000      9.0  \n",
      "max    3.410000   0.610000  12.90000      9.0  \n"
     ]
    }
   ],
   "source": [
    "# Descriptive statistics for Sample 4 (Quality level 9)\n",
    "print(\"Descriptive Statistics for Sample 4 (Quality level 9):\")\n",
    "print(sample_4.describe())"
   ]
  },
  {
   "cell_type": "code",
   "execution_count": null,
   "id": "6fe528ad",
   "metadata": {
    "id": "6fe528ad"
   },
   "outputs": [],
   "source": []
  }
 ],
 "metadata": {
  "colab": {
   "provenance": []
  },
  "kernelspec": {
   "display_name": "Python 3 (ipykernel)",
   "language": "python",
   "name": "python3"
  },
  "language_info": {
   "codemirror_mode": {
    "name": "ipython",
    "version": 3
   },
   "file_extension": ".py",
   "mimetype": "text/x-python",
   "name": "python",
   "nbconvert_exporter": "python",
   "pygments_lexer": "ipython3",
   "version": "3.11.4"
  }
 },
 "nbformat": 4,
 "nbformat_minor": 5
}
