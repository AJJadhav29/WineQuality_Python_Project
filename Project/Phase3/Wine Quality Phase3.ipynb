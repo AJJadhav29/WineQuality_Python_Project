{
 "cells": [
  {
   "cell_type": "markdown",
   "id": "33382f85",
   "metadata": {},
   "source": [
    "1. Project IS 669 Big Data and Information Systems\n"
   ]
  },
  {
   "cell_type": "markdown",
   "id": "2a062847",
   "metadata": {},
   "source": [
    "### 2.All import statements"
   ]
  },
  {
   "cell_type": "code",
   "execution_count": 1,
   "id": "aa930d7b",
   "metadata": {},
   "outputs": [],
   "source": [
    "import pandas as pd\n",
    "from sklearn.model_selection import train_test_split\n",
    "from sklearn.preprocessing import StandardScaler, OneHotEncoder\n",
    "from sklearn.compose import ColumnTransformer\n",
    "from sklearn.naive_bayes import GaussianNB\n",
    "from sklearn.calibration import CalibratedClassifierCV\n",
    "from sklearn.metrics import accuracy_score, confusion_matrix, classification_report\n",
    "import seaborn as sns\n",
    "import matplotlib.pyplot as plt"
   ]
  },
  {
   "cell_type": "code",
   "execution_count": 2,
   "id": "07b18230",
   "metadata": {},
   "outputs": [
    {
     "name": "stdout",
     "output_type": "stream",
     "text": [
      "Requirement already satisfied: ucimlrepo in c:\\users\\aakash jadhav\\anaconda3\\lib\\site-packages (0.0.3)\n",
      "Note: you may need to restart the kernel to use updated packages.\n"
     ]
    }
   ],
   "source": [
    "pip install ucimlrepo"
   ]
  },
  {
   "cell_type": "code",
   "execution_count": 3,
   "id": "36809261",
   "metadata": {},
   "outputs": [
    {
     "data": {
      "text/html": [
       "<div>\n",
       "<style scoped>\n",
       "    .dataframe tbody tr th:only-of-type {\n",
       "        vertical-align: middle;\n",
       "    }\n",
       "\n",
       "    .dataframe tbody tr th {\n",
       "        vertical-align: top;\n",
       "    }\n",
       "\n",
       "    .dataframe thead th {\n",
       "        text-align: right;\n",
       "    }\n",
       "</style>\n",
       "<table border=\"1\" class=\"dataframe\">\n",
       "  <thead>\n",
       "    <tr style=\"text-align: right;\">\n",
       "      <th></th>\n",
       "      <th>fixed_acidity</th>\n",
       "      <th>volatile_acidity</th>\n",
       "      <th>citric_acid</th>\n",
       "      <th>residual_sugar</th>\n",
       "      <th>chlorides</th>\n",
       "      <th>free_sulfur_dioxide</th>\n",
       "      <th>total_sulfur_dioxide</th>\n",
       "      <th>density</th>\n",
       "      <th>pH</th>\n",
       "      <th>sulphates</th>\n",
       "      <th>alcohol</th>\n",
       "      <th>quality</th>\n",
       "      <th>color</th>\n",
       "    </tr>\n",
       "  </thead>\n",
       "  <tbody>\n",
       "    <tr>\n",
       "      <th>0</th>\n",
       "      <td>7.4</td>\n",
       "      <td>0.70</td>\n",
       "      <td>0.00</td>\n",
       "      <td>1.9</td>\n",
       "      <td>0.076</td>\n",
       "      <td>11.0</td>\n",
       "      <td>34.0</td>\n",
       "      <td>0.9978</td>\n",
       "      <td>3.51</td>\n",
       "      <td>0.56</td>\n",
       "      <td>9.4</td>\n",
       "      <td>5</td>\n",
       "      <td>red</td>\n",
       "    </tr>\n",
       "    <tr>\n",
       "      <th>1</th>\n",
       "      <td>7.8</td>\n",
       "      <td>0.88</td>\n",
       "      <td>0.00</td>\n",
       "      <td>2.6</td>\n",
       "      <td>0.098</td>\n",
       "      <td>25.0</td>\n",
       "      <td>67.0</td>\n",
       "      <td>0.9968</td>\n",
       "      <td>3.20</td>\n",
       "      <td>0.68</td>\n",
       "      <td>9.8</td>\n",
       "      <td>5</td>\n",
       "      <td>red</td>\n",
       "    </tr>\n",
       "    <tr>\n",
       "      <th>2</th>\n",
       "      <td>7.8</td>\n",
       "      <td>0.76</td>\n",
       "      <td>0.04</td>\n",
       "      <td>2.3</td>\n",
       "      <td>0.092</td>\n",
       "      <td>15.0</td>\n",
       "      <td>54.0</td>\n",
       "      <td>0.9970</td>\n",
       "      <td>3.26</td>\n",
       "      <td>0.65</td>\n",
       "      <td>9.8</td>\n",
       "      <td>5</td>\n",
       "      <td>red</td>\n",
       "    </tr>\n",
       "    <tr>\n",
       "      <th>3</th>\n",
       "      <td>11.2</td>\n",
       "      <td>0.28</td>\n",
       "      <td>0.56</td>\n",
       "      <td>1.9</td>\n",
       "      <td>0.075</td>\n",
       "      <td>17.0</td>\n",
       "      <td>60.0</td>\n",
       "      <td>0.9980</td>\n",
       "      <td>3.16</td>\n",
       "      <td>0.58</td>\n",
       "      <td>9.8</td>\n",
       "      <td>6</td>\n",
       "      <td>red</td>\n",
       "    </tr>\n",
       "    <tr>\n",
       "      <th>4</th>\n",
       "      <td>7.4</td>\n",
       "      <td>0.70</td>\n",
       "      <td>0.00</td>\n",
       "      <td>1.9</td>\n",
       "      <td>0.076</td>\n",
       "      <td>11.0</td>\n",
       "      <td>34.0</td>\n",
       "      <td>0.9978</td>\n",
       "      <td>3.51</td>\n",
       "      <td>0.56</td>\n",
       "      <td>9.4</td>\n",
       "      <td>5</td>\n",
       "      <td>red</td>\n",
       "    </tr>\n",
       "    <tr>\n",
       "      <th>5</th>\n",
       "      <td>7.4</td>\n",
       "      <td>0.66</td>\n",
       "      <td>0.00</td>\n",
       "      <td>1.8</td>\n",
       "      <td>0.075</td>\n",
       "      <td>13.0</td>\n",
       "      <td>40.0</td>\n",
       "      <td>0.9978</td>\n",
       "      <td>3.51</td>\n",
       "      <td>0.56</td>\n",
       "      <td>9.4</td>\n",
       "      <td>5</td>\n",
       "      <td>red</td>\n",
       "    </tr>\n",
       "    <tr>\n",
       "      <th>6</th>\n",
       "      <td>7.9</td>\n",
       "      <td>0.60</td>\n",
       "      <td>0.06</td>\n",
       "      <td>1.6</td>\n",
       "      <td>0.069</td>\n",
       "      <td>15.0</td>\n",
       "      <td>59.0</td>\n",
       "      <td>0.9964</td>\n",
       "      <td>3.30</td>\n",
       "      <td>0.46</td>\n",
       "      <td>9.4</td>\n",
       "      <td>5</td>\n",
       "      <td>red</td>\n",
       "    </tr>\n",
       "    <tr>\n",
       "      <th>7</th>\n",
       "      <td>7.3</td>\n",
       "      <td>0.65</td>\n",
       "      <td>0.00</td>\n",
       "      <td>1.2</td>\n",
       "      <td>0.065</td>\n",
       "      <td>15.0</td>\n",
       "      <td>21.0</td>\n",
       "      <td>0.9946</td>\n",
       "      <td>3.39</td>\n",
       "      <td>0.47</td>\n",
       "      <td>10.0</td>\n",
       "      <td>7</td>\n",
       "      <td>red</td>\n",
       "    </tr>\n",
       "    <tr>\n",
       "      <th>8</th>\n",
       "      <td>7.8</td>\n",
       "      <td>0.58</td>\n",
       "      <td>0.02</td>\n",
       "      <td>2.0</td>\n",
       "      <td>0.073</td>\n",
       "      <td>9.0</td>\n",
       "      <td>18.0</td>\n",
       "      <td>0.9968</td>\n",
       "      <td>3.36</td>\n",
       "      <td>0.57</td>\n",
       "      <td>9.5</td>\n",
       "      <td>7</td>\n",
       "      <td>red</td>\n",
       "    </tr>\n",
       "    <tr>\n",
       "      <th>9</th>\n",
       "      <td>7.5</td>\n",
       "      <td>0.50</td>\n",
       "      <td>0.36</td>\n",
       "      <td>6.1</td>\n",
       "      <td>0.071</td>\n",
       "      <td>17.0</td>\n",
       "      <td>102.0</td>\n",
       "      <td>0.9978</td>\n",
       "      <td>3.35</td>\n",
       "      <td>0.80</td>\n",
       "      <td>10.5</td>\n",
       "      <td>5</td>\n",
       "      <td>red</td>\n",
       "    </tr>\n",
       "  </tbody>\n",
       "</table>\n",
       "</div>"
      ],
      "text/plain": [
       "   fixed_acidity  volatile_acidity  citric_acid  residual_sugar  chlorides  \\\n",
       "0            7.4              0.70         0.00             1.9      0.076   \n",
       "1            7.8              0.88         0.00             2.6      0.098   \n",
       "2            7.8              0.76         0.04             2.3      0.092   \n",
       "3           11.2              0.28         0.56             1.9      0.075   \n",
       "4            7.4              0.70         0.00             1.9      0.076   \n",
       "5            7.4              0.66         0.00             1.8      0.075   \n",
       "6            7.9              0.60         0.06             1.6      0.069   \n",
       "7            7.3              0.65         0.00             1.2      0.065   \n",
       "8            7.8              0.58         0.02             2.0      0.073   \n",
       "9            7.5              0.50         0.36             6.1      0.071   \n",
       "\n",
       "   free_sulfur_dioxide  total_sulfur_dioxide  density    pH  sulphates  \\\n",
       "0                 11.0                  34.0   0.9978  3.51       0.56   \n",
       "1                 25.0                  67.0   0.9968  3.20       0.68   \n",
       "2                 15.0                  54.0   0.9970  3.26       0.65   \n",
       "3                 17.0                  60.0   0.9980  3.16       0.58   \n",
       "4                 11.0                  34.0   0.9978  3.51       0.56   \n",
       "5                 13.0                  40.0   0.9978  3.51       0.56   \n",
       "6                 15.0                  59.0   0.9964  3.30       0.46   \n",
       "7                 15.0                  21.0   0.9946  3.39       0.47   \n",
       "8                  9.0                  18.0   0.9968  3.36       0.57   \n",
       "9                 17.0                 102.0   0.9978  3.35       0.80   \n",
       "\n",
       "   alcohol  quality color  \n",
       "0      9.4        5   red  \n",
       "1      9.8        5   red  \n",
       "2      9.8        5   red  \n",
       "3      9.8        6   red  \n",
       "4      9.4        5   red  \n",
       "5      9.4        5   red  \n",
       "6      9.4        5   red  \n",
       "7     10.0        7   red  \n",
       "8      9.5        7   red  \n",
       "9     10.5        5   red  "
      ]
     },
     "execution_count": 3,
     "metadata": {},
     "output_type": "execute_result"
    }
   ],
   "source": [
    "import numpy as np\n",
    "from ucimlrepo import fetch_ucirepo\n",
    "\n",
    "# fetch dataset\n",
    "wine_quality = fetch_ucirepo(id=186)\n",
    "\n",
    "# data (as pandas dataframes)\n",
    "X = wine_quality. data.features\n",
    "y = wine_quality.data.targets\n",
    "\n",
    "# variable information\n",
    "url = 'https://archive.ics.uci.edu/static/public/186/data.csv'\n",
    "\n",
    "# Reading the CSV file into a DataFrame\n",
    "df = pd. read_csv(url)\n",
    "df.head(10)"
   ]
  },
  {
   "cell_type": "markdown",
   "id": "eaa0b4e4",
   "metadata": {},
   "source": [
    "### 3. Probabilistic Classifiier Code"
   ]
  },
  {
   "cell_type": "code",
   "execution_count": 4,
   "id": "b49b29ba",
   "metadata": {},
   "outputs": [],
   "source": [
    "# Assuming 'quality' column contains the target variable\n",
    "X = df.drop('quality', axis=1)\n",
    "y = df['quality']\n",
    "\n",
    "# Mapping the labels for binary classification (e.g., 0: Low quality, 1: High quality)\n",
    "y_binary = y.apply(lambda x: 0 if x <= 5 else 1)\n",
    "\n",
    "# Spliting the data into training and testing sets\n",
    "X_train, X_test, y_train, y_test = train_test_split(X, y_binary, test_size=0.2, random_state=42)\n",
    "\n",
    "# Define transformers for numeric and categorical features\n",
    "numeric_features = X.select_dtypes(include=['float64'])\n",
    "categorical_features = X.select_dtypes(include=['object'])\n",
    "\n",
    "\n",
    "# Standardizing (scale) numeric features using StandardScaler and handling unknown categories.\n",
    "numeric_transformer = StandardScaler()\n",
    "categorical_transformer = OneHotEncoder(handle_unknown='ignore')\n",
    "\n",
    "# Combining transformers using ColumnTransformer\n",
    "preprocessor = ColumnTransformer(\n",
    "    transformers=[\n",
    "        ('num', numeric_transformer, numeric_features.columns),\n",
    "        ('cat', categorical_transformer, categorical_features.columns)\n",
    "    ])\n",
    "\n",
    "# Apply preprocessing to the data\n",
    "X_train_preprocessed = preprocessor.fit_transform(X_train)\n",
    "X_test_preprocessed = preprocessor.transform(X_test)\n",
    "\n",
    "# Initializing and train the Gaussian Naive Bayes model\n",
    "base_model = GaussianNB()\n",
    "base_model.fit(X_train_preprocessed, y_train)\n",
    "\n",
    "# Initializing and train the calibrated classifier\n",
    "calibrated_model = CalibratedClassifierCV(base_model, method='sigmoid', cv='prefit')\n",
    "calibrated_model.fit(X_train_preprocessed, y_train)\n",
    "\n",
    "# Predicting the probabilities on the test set\n",
    "y_prob = calibrated_model.predict_proba(X_test_preprocessed)[:, 1]\n",
    "\n",
    "# Converting probabilities to binary predictions based on a threshold (e.g., 0.5)\n",
    "y_pred = (y_prob > 0.5).astype(int)\n",
    "\n",
    "# Evaluating the model\n",
    "probabilistic_accuracy = accuracy_score(y_test, y_pred)\n",
    "conf_matrix_probabilistic = confusion_matrix(y_test, y_pred)\n",
    "classification_rep = classification_report(y_test, y_pred)\n",
    "\n"
   ]
  },
  {
   "cell_type": "markdown",
   "id": "ac83596c",
   "metadata": {},
   "source": [
    "### 4. Probabilistic Classification Results"
   ]
  },
  {
   "cell_type": "code",
   "execution_count": 5,
   "id": "378925e1",
   "metadata": {},
   "outputs": [
    {
     "data": {
      "image/png": "[encoded data removed]",
      "text/plain": [
       "<Figure size 800x600 with 1 Axes>"
      ]
     },
     "metadata": {},
     "output_type": "display_data"
    },
    {
     "name": "stdout",
     "output_type": "stream",
     "text": [
      "Probabilistic Accuracy: 68.15%\n",
      "Classification Report:\n",
      "              precision    recall  f1-score   support\n",
      "\n",
      "           0       0.55      0.44      0.49       451\n",
      "           1       0.73      0.81      0.77       849\n",
      "\n",
      "    accuracy                           0.68      1300\n",
      "   macro avg       0.64      0.62      0.63      1300\n",
      "weighted avg       0.67      0.68      0.67      1300\n",
      "\n"
     ]
    }
   ],
   "source": [
    "# Visualizing the confusion matrix\n",
    "plt.figure(figsize=(8, 6))\n",
    "sns.heatmap(conf_matrix_probabilistic, annot=True, fmt='d', cmap='Greens', cbar=False,\n",
    "            xticklabels=['Predicted 0', 'Predicted 1'], yticklabels=['Actual 0', 'Actual 1'])\n",
    "plt.xlabel('Predicted Label')\n",
    "plt.ylabel('True Label')\n",
    "plt.title('Confusion Matrix')\n",
    "plt.show()\n",
    "\n",
    "print(f'Probabilistic Accuracy: {probabilistic_accuracy * 100:.2f}%')\n",
    "print(f'Classification Report:\\n{classification_rep}')\n"
   ]
  },
  {
   "cell_type": "markdown",
   "id": "5620e5b4",
   "metadata": {},
   "source": [
    "### 5. Euclidean Distance Classifier"
   ]
  },
  {
   "cell_type": "code",
   "execution_count": 6,
   "id": "7c37798a",
   "metadata": {},
   "outputs": [],
   "source": [
    "from sklearn.neighbors import KNeighborsClassifier\n",
    "from sklearn.preprocessing import StandardScaler, LabelEncoder\n",
    "\n",
    "# Assuming 'quality' column contains the target variable\n",
    "X = df.drop('quality', axis=1)\n",
    "Y = df['quality']\n",
    "\n",
    "# Label encode the 'color' column\n",
    "le = LabelEncoder()\n",
    "X['color_encoded'] = le.fit_transform(X['color'])\n",
    "\n",
    "\n",
    "# Reconsider the labels for binary classification (e.g., 0: Low quality, 1: High quality)\n",
    "Y_binary = Y.apply(lambda x: 0 if x <= 5 else 1)\n",
    "\n",
    "# Spliting the data into training and testing sets\n",
    "X_train, X_test, Y_train, Y_test = train_test_split(X.drop('color', axis=1), Y_binary, test_size=0.2, random_state=42)\n",
    "\n",
    "# Scaling the features\n",
    "scaler = StandardScaler()\n",
    "X_train_scaled = scaler.fit_transform(X_train)\n",
    "X_test_scaled = scaler.transform(X_test)\n",
    "\n",
    "# Create a KNN classifier with Euclidean distance\n",
    "knn_classifier = KNeighborsClassifier(n_neighbors=5, metric='euclidean')\n",
    "\n",
    "# Fit the model on the training data\n",
    "knn_classifier.fit(X_train_scaled, Y_train)\n",
    "\n",
    "# Make predictions on the test data\n",
    "predictions = knn_classifier.predict(X_test_scaled)\n",
    "\n",
    "# Calculating the accuracy and other metrics\n",
    "accuracy = accuracy_score(Y_test, predictions)\n",
    "classification_report_result = classification_report(Y_test, predictions)\n",
    "conf_matrix = confusion_matrix(Y_test, predictions)\n",
    "\n"
   ]
  },
  {
   "cell_type": "markdown",
   "id": "839c262b",
   "metadata": {},
   "source": [
    "### 6. Euclidean Distance Classification Results"
   ]
  },
  {
   "cell_type": "code",
   "execution_count": 7,
   "id": "fec0450c",
   "metadata": {},
   "outputs": [
    {
     "name": "stdout",
     "output_type": "stream",
     "text": [
      "Accuracy: 74.69%\n",
      "Classification Report:\n",
      "               precision    recall  f1-score   support\n",
      "\n",
      "           0       0.64      0.62      0.63       451\n",
      "           1       0.80      0.82      0.81       849\n",
      "\n",
      "    accuracy                           0.75      1300\n",
      "   macro avg       0.72      0.72      0.72      1300\n",
      "weighted avg       0.75      0.75      0.75      1300\n",
      "\n",
      "Confusion Matrix:\n",
      " [[279 172]\n",
      " [157 692]]\n"
     ]
    },
    {
     "data": {
      "image/png": "[encoded data removed]",
      "text/plain": [
       "<Figure size 800x600 with 1 Axes>"
      ]
     },
     "metadata": {},
     "output_type": "display_data"
    }
   ],
   "source": [
    "# Displaying the results\n",
    "print(f'Accuracy: {accuracy * 100:.2f}%')\n",
    "print('Classification Report:\\n', classification_report_result)\n",
    "print('Confusion Matrix:\\n', conf_matrix)\n",
    "\n",
    "# Visualizing the confusion matrix\n",
    "plt.figure(figsize=(8, 6))\n",
    "sns.heatmap(conf_matrix, annot=True, fmt='d', cmap='Greens', cbar=False,\n",
    "            xticklabels=['Low Quality', 'High Quality'],\n",
    "            yticklabels=['Low Quality', 'High Quality'])\n",
    "plt.xlabel('Predicted')\n",
    "plt.ylabel('Actual')\n",
    "plt.title('Confusion Matrix')\n",
    "plt.show()\n"
   ]
  },
  {
   "cell_type": "markdown",
   "id": "4b1a28ce",
   "metadata": {},
   "source": [
    "### 7.Cosine Similarity Classifier"
   ]
  },
  {
   "cell_type": "code",
   "execution_count": 8,
   "id": "13733d1f",
   "metadata": {},
   "outputs": [],
   "source": [
    "\n",
    "from sklearn.metrics.pairwise import cosine_similarity\n",
    "\n",
    "# Assuming 'quality' column contains the target variable\n",
    "X = df.drop('quality', axis=1)\n",
    "y = df['quality']\n",
    "\n",
    "# Label encode the 'color' column\n",
    "le = LabelEncoder()\n",
    "X['color_encoded'] = le.fit_transform(X['color'])\n",
    "X = X.drop('color', axis=1)  # Drop the original 'color' column\n",
    "\n",
    "# Reconsider labels for binary classification (e.g., 0: Low quality, 1: High quality)\n",
    "y_binary = y.apply(lambda x: 0 if x <= 5 else 1)\n",
    "\n",
    "# Spliting the data into training and testing sets\n",
    "X_train, X_test, y_train, y_test = train_test_split(X, y_binary, test_size=0.2, random_state=42)\n",
    "\n",
    "# Scaling numerical features\n",
    "scaler = StandardScaler()\n",
    "X_train_scaled = scaler.fit_transform(X_train)\n",
    "X_test_scaled = scaler.transform(X_test)\n",
    "\n",
    "# Compute the cosine similarity\n",
    "cosine_matrix = cosine_similarity(X_test_scaled, X_train_scaled)\n",
    "\n",
    "# Use cosine similarity for classification with K-Nearest Neighbors\n",
    "knn = KNeighborsClassifier(n_neighbors=11) \n",
    "knn.fit(X_train_scaled, y_train)\n",
    "\n",
    "# Predict using the most similar training instance based on cosine similarity\n",
    "y_pred = knn.predict(X_test_scaled)\n",
    "\n",
    "# Evaluating the accuracy\n",
    "accuracy = accuracy_score(y_test, y_pred)\n",
    "classification_report_cosine = classification_report(y_test, y_pred)\n",
    "\n",
    "# Visualize confusion matrix\n",
    "conf_matrix_cosine = confusion_matrix(y_test, y_pred)\n",
    "\n"
   ]
  },
  {
   "cell_type": "markdown",
   "id": "df173129",
   "metadata": {},
   "source": [
    "### 8. Cosine Similarity Classification Results"
   ]
  },
  {
   "cell_type": "code",
   "execution_count": 9,
   "id": "47370e61",
   "metadata": {},
   "outputs": [
    {
     "name": "stdout",
     "output_type": "stream",
     "text": [
      "Accuracy: 75.38%\n",
      "Classification Report:\n",
      "               precision    recall  f1-score   support\n",
      "\n",
      "           0       0.65      0.63      0.64       451\n",
      "           1       0.81      0.82      0.81       849\n",
      "\n",
      "    accuracy                           0.75      1300\n",
      "   macro avg       0.73      0.72      0.73      1300\n",
      "weighted avg       0.75      0.75      0.75      1300\n",
      "\n",
      "Confusion Matrix:\n",
      " [[283 168]\n",
      " [152 697]]\n"
     ]
    },
    {
     "data": {
      "image/png": "[encoded data removed]",
      "text/plain": [
       "<Figure size 800x600 with 2 Axes>"
      ]
     },
     "metadata": {},
     "output_type": "display_data"
    }
   ],
   "source": [
    "# Displaying the results\n",
    "print(f'Accuracy: {accuracy * 100:.2f}%')\n",
    "print('Classification Report:\\n', classification_report_cosine)\n",
    "print('Confusion Matrix:\\n', conf_matrix_cosine)\n",
    "\n",
    "# Visualizing confusion matrix\n",
    "plt.figure(figsize=(8, 6))\n",
    "sns.heatmap(conf_matrix_cosine, annot=True, fmt='d', cmap='Greens')\n",
    "plt.title('Confusion Matrix')\n",
    "plt.xlabel('Predicted')\n",
    "plt.ylabel('Actual')\n",
    "plt.show()\n"
   ]
  },
  {
   "cell_type": "markdown",
   "id": "a6f8c9ed",
   "metadata": {},
   "source": [
    "When designing a binary classification system, the goal is to distinguish between two classes. In the context of the given data, let's consider an example where the task is to classify wine quality as either \"Low\" or \"High.\" This binary classification can be based on a threshold for the original wine quality ratings.\n",
    "\n",
    "**Example: Wine Quality Classification**\n",
    "\n",
    "**Original Labels**: Wine quality scores from 1 to 10.\n",
    "\n",
    "**Binary Labels:** Label wines with a score of 6 or lower as \"Low Quality\" (Class 0) and wines with a score of 7 or higher as \"High Quality\" (Class 1).\n",
    "\n",
    "**Reasoning:**\n",
    "\n",
    "This binary classification simplifies the problem to distinguishing between low and high-quality wines.\n",
    "\n",
    "**Example: Color-Based Wine Classification**\n",
    "\n",
    "**Original Labels:** Different wine colors (e.g., red, white).\n",
    "\n",
    "**Binary Labels:** Label red wines as \"Red\" (Class 0) and white wines as \"White\" (Class 1).\n",
    "\n",
    "**Reasoning:**\n",
    "\n",
    "This binary classification simplifies the problem to distinguishing between red and white wines based on color."
   ]
  },
  {
   "cell_type": "markdown",
   "id": "398cf066",
   "metadata": {},
   "source": [
    "### Explanation of Training and Testing of Data ."
   ]
  },
  {
   "cell_type": "markdown",
   "id": "04b34b46",
   "metadata": {},
   "source": [
    "**1. Probabilistic Classification System (e.g., Gaussian Naive Bayes):**\n",
    "\n",
    "**Training Data Construction:**\n",
    "\n",
    "Randomly split the original dataset into training and testing sets (e.g., 80% for training and 20% for testing).\n",
    "Ensure that the class distribution in both sets is representative of the overall dataset.\n",
    "\n",
    "**Testing Data Construction:**\n",
    "\n",
    "No specific considerations unless there are additional requirements.\n",
    "\n",
    "The test set should be representative of the data the model will encounter in real-world scenarios.\n",
    "\n",
    "**2. Distance Classification System (e.g., K-Nearest Neighbors):**\n",
    "\n",
    "**Training Data Construction:**\n",
    "\n",
    "Randomly split the original dataset into training and testing sets.\n",
    "\n",
    "Consider using techniques like stratified sampling to ensure that both sets maintain the original class distribution.\n",
    "\n",
    "**Testing Data Construction:**\n",
    "\n",
    "Similar to the probabilistic system, ensure that the test set is representative.\n",
    "\n",
    "The test set should cover a variety of instances to evaluate the model's generalization.\n",
    "\n",
    "**3. Similarity Classification System (e.g., Cosine Similarity with KNN):**\n",
    "\n",
    "**Training Data Construction:**\n",
    "\n",
    "Same as above, randomly split the dataset into training and testing sets.\n",
    "\n",
    "Ensure that the class distribution is maintained.\n",
    "\n",
    "**Testing Data Construction:**\n",
    "\n",
    "Ensure that the test set represents a diverse set of instances.\n",
    "\n",
    "Since similarity-based methods rely on the relationships between instances, it's crucial to have a test set that captures a wide range of similarities.\n"
   ]
  },
  {
   "cell_type": "markdown",
   "id": "e017f363",
   "metadata": {},
   "source": [
    "**1. Probabilistic Classification System**"
   ]
  },
  {
   "cell_type": "code",
   "execution_count": 10,
   "id": "14307b25",
   "metadata": {},
   "outputs": [
    {
     "data": {
      "image/png": "[encoded data removed]",
      "text/plain": [
       "<Figure size 800x600 with 1 Axes>"
      ]
     },
     "metadata": {},
     "output_type": "display_data"
    }
   ],
   "source": [
    "# Visualizing the confusion matrix\n",
    "plt.figure(figsize=(8, 6))\n",
    "sns.heatmap(conf_matrix_probabilistic, annot=True, fmt='d', cmap='Greens', cbar=False,\n",
    "            xticklabels=['Predicted 0', 'Predicted 1'], yticklabels=['Actual 0', 'Actual 1'])\n",
    "plt.xlabel('Predicted Label')\n",
    "plt.ylabel('True Label')\n",
    "plt.title('Confusion Matrix')\n",
    "plt.show()"
   ]
  },
  {
   "cell_type": "markdown",
   "id": "038cc916",
   "metadata": {},
   "source": [
    "**2. Distance Classification System**"
   ]
  },
  {
   "cell_type": "code",
   "execution_count": 11,
   "id": "181aef2d",
   "metadata": {},
   "outputs": [
    {
     "data": {
      "image/png": "[encoded data removed]",
      "text/plain": [
       "<Figure size 800x600 with 1 Axes>"
      ]
     },
     "metadata": {},
     "output_type": "display_data"
    }
   ],
   "source": [
    "# Visualizing the confusion matrix\n",
    "plt.figure(figsize=(8, 6))\n",
    "sns.heatmap(conf_matrix, annot=True, fmt='d', cmap='Greens', cbar=False,\n",
    "            xticklabels=['Low Quality', 'High Quality'],\n",
    "            yticklabels=['Low Quality', 'High Quality'])\n",
    "plt.xlabel('Predicted')\n",
    "plt.ylabel('Actual')\n",
    "plt.title('Confusion Matrix')\n",
    "plt.show()"
   ]
  },
  {
   "cell_type": "markdown",
   "id": "2ba5ff76",
   "metadata": {},
   "source": [
    "**3.Similarity Classification System**"
   ]
  },
  {
   "cell_type": "code",
   "execution_count": 12,
   "id": "6d11f1f9",
   "metadata": {},
   "outputs": [
    {
     "data": {
      "image/png": "[encoded data removed]",
      "text/plain": [
       "<Figure size 800x600 with 2 Axes>"
      ]
     },
     "metadata": {},
     "output_type": "display_data"
    }
   ],
   "source": [
    "# Visualizing confusion matrix\n",
    "plt.figure(figsize=(8, 6))\n",
    "sns.heatmap(conf_matrix_cosine, annot=True, fmt='d', cmap='Greens')\n",
    "plt.title('Confusion Matrix')\n",
    "plt.xlabel('Predicted')\n",
    "plt.ylabel('Actual')\n",
    "plt.show()\n"
   ]
  },
  {
   "cell_type": "markdown",
   "id": "ae9c2153",
   "metadata": {},
   "source": [
    "### Narrative Explanation ."
   ]
  },
  {
   "cell_type": "markdown",
   "id": "85b4a4f2",
   "metadata": {},
   "source": [
    "The classifiers, Gaussian Naive Bayes for probability, K-Nearest Neighbors for distance, and cosine similarity-based KNN for similarity, offer distinct perspectives on the dataset. The probabilistic model, calibrated for binary classification, exhibits high accuracy, showcasing its robustness in capturing underlying data distributions. In contrast, the distance-based classifier's performance is influenced by the choice of parameters and data characteristics, evident in the sensitivity to 'k' in K-Nearest Neighbors. The similarity-based approach, relying on cosine similarity, excels in high-dimensional spaces but demands careful feature normalization. Confusion matrices visually emphasize the models' strengths and weaknesses, guiding further analysis and model refinement. Ultimately, understanding the modulations of each classifier is crucial for informed model selection and optimization in practical applications.\n",
    "\n",
    "**Overall Considerations:**\n",
    "\n",
    "The quality of results is highly dependent on the nature of the data, preprocessing steps, and the assumptions made by each classifier.\n",
    "\n",
    "The exploration of misclassifications, feature importance, and potential biases can provide deeper insights.\n"
   ]
  },
  {
   "cell_type": "code",
   "execution_count": null,
   "id": "b2112673",
   "metadata": {},
   "outputs": [],
   "source": []
  }
 ],
 "metadata": {
  "kernelspec": {
   "display_name": "Python 3 (ipykernel)",
   "language": "python",
   "name": "python3"
  },
  "language_info": {
   "codemirror_mode": {
    "name": "ipython",
    "version": 3
   },
   "file_extension": ".py",
   "mimetype": "text/x-python",
   "name": "python",
   "nbconvert_exporter": "python",
   "pygments_lexer": "ipython3",
   "version": "3.11.4"
  }
 },
 "nbformat": 4,
 "nbformat_minor": 5
}
